{
 "cells": [
  {
   "cell_type": "code",
   "execution_count": 9,
   "id": "8ca655f0",
   "metadata": {},
   "outputs": [
    {
     "name": "stdout",
     "output_type": "stream",
     "text": [
      "Few benefits as full time employee.\n",
      "Average salary: 148750.0\n"
     ]
    }
   ],
   "source": [
    "class Employee:\n",
    "    \n",
    "  #  Generic Employee class with name, family, salary and department\n",
    "    \n",
    "\n",
    "    # data member to count the number of Employees\n",
    "    no_of_employees = 0\n",
    "\n",
    "    def __init__(self, name, family_name, salary, department):\n",
    "        self.__name = name\n",
    "        self.__family_name = family_name\n",
    "        self.salary = salary\n",
    "        self.__department = department\n",
    "        Employee.no_of_employees += 1\n",
    "\n",
    "    @staticmethod\n",
    "    def average_salary(employees):\n",
    "        \n",
    "       # function to average salary\n",
    "        \n",
    "        sum = 0\n",
    "        # Iterative loop\n",
    "        for employee in employees:\n",
    "            sum += employee.salary\n",
    "        return sum / Employee.no_of_employees\n",
    "\n",
    "\n",
    "class FulltimeEmployee(Employee):\n",
    "\n",
    "  #  Full Time Employee is a sub class of Employee\n",
    "\n",
    "\n",
    "    def __init__(self, name, family_name, salary, department):\n",
    "        super().__init__(name, family_name, salary, department)\n",
    "\n",
    "    def full_time_benefits(self):\n",
    "        print(\"Few benefits as full time employee.\")\n",
    "\n",
    "\n",
    "def main():\n",
    "    employees = []\n",
    "    fte1 = FulltimeEmployee(\"Employee1\", \"FamilyName1\", 120000, \"Management\")\n",
    "    fte1.full_time_benefits()\n",
    "    employees.append(fte1)\n",
    "    fte2 = FulltimeEmployee(\"Employee2\", \"FamilyName2\", 180000, \"RnD\")\n",
    "    employees.append(fte2)\n",
    "    emp1 = Employee(\"Employee3\", \"FamilyName3\", 160000, \"Marketing\")\n",
    "    employees.append(emp1)\n",
    "    emp2 = Employee(\"Employee4\", \"FamilyName4\", 135000, \"HR\")\n",
    "    employees.append(emp2)\n",
    "    print(\"Average salary:\", FulltimeEmployee.average_salary(employees))\n",
    "\n",
    "\n",
    "if __name__ == \"__main__\":\n",
    "    main()"
   ]
  }
 ],
 "metadata": {
  "kernelspec": {
   "display_name": "Python 3 (ipykernel)",
   "language": "python",
   "name": "python3"
  },
  "language_info": {
   "codemirror_mode": {
    "name": "ipython",
    "version": 3
   },
   "file_extension": ".py",
   "mimetype": "text/x-python",
   "name": "python",
   "nbconvert_exporter": "python",
   "pygments_lexer": "ipython3",
   "version": "3.11.1"
  }
 },
 "nbformat": 4,
 "nbformat_minor": 5
}
