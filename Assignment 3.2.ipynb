{
 "cells": [
  {
   "cell_type": "code",
   "execution_count": 31,
   "id": "e82304b4",
   "metadata": {},
   "outputs": [
    {
     "name": "stdout",
     "output_type": "stream",
     "text": [
      "[[18.06672346  6.2791238   9.13341567 17.62172514  3.30293502]\n",
      " [19.7508902  18.72172324  8.73043107  5.53046589 15.41505401]\n",
      " [ 4.26153766  4.12398094  2.24679742 17.76086411  9.87426075]\n",
      " [13.05952928 14.09513447  1.89420172  2.87942956 16.7941825 ]]\n",
      "[[ 0.          6.2791238   9.13341567 17.62172514  3.30293502]\n",
      " [ 0.         18.72172324  8.73043107  5.53046589 15.41505401]\n",
      " [ 4.26153766  4.12398094  2.24679742  0.          9.87426075]\n",
      " [13.05952928 14.09513447  1.89420172  2.87942956  0.        ]]\n"
     ]
    }
   ],
   "source": [
    "import numpy as np\n",
    "\n",
    "# Create random vector of size 20 with float values between 1 and 20\n",
    "x = np.random.uniform(1, 20, 20)\n",
    "\n",
    "# Reshape array to 4 by 5\n",
    "matrix = x.reshape(4, 5)\n",
    "print(matrix)\n",
    "\n",
    "# Replace max in each row by 0 using np.where()\n",
    "matrix = np.where(matrix == np.max(matrix, axis=1, keepdims=True), 0, matrix)\n",
    "\n",
    "# Print the matrix\n",
    "print(matrix)\n",
    "\n"
   ]
  }
 ],
 "metadata": {
  "kernelspec": {
   "display_name": "Python 3 (ipykernel)",
   "language": "python",
   "name": "python3"
  },
  "language_info": {
   "codemirror_mode": {
    "name": "ipython",
    "version": 3
   },
   "file_extension": ".py",
   "mimetype": "text/x-python",
   "name": "python",
   "nbconvert_exporter": "python",
   "pygments_lexer": "ipython3",
   "version": "3.11.1"
  }
 },
 "nbformat": 4,
 "nbformat_minor": 5
}
